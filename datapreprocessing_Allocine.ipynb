{
 "cells": [
  {
   "cell_type": "code",
   "execution_count": 2,
   "id": "8c3aa1ad-de04-4090-99f3-d4a3eb39a5b0",
   "metadata": {},
   "outputs": [],
   "source": [
    "import pandas as pd\n",
    "train_dataset=pd.read_csv(r\"C:\\Users\\HP 850 I7\\Desktop\\Master2_iaNov24\\Deep_Learning\\model_2\\train_Allocine_french.csv\", sep=\",\")\n",
    "test_dataset=pd.read_csv(r\"C:\\Users\\HP 850 I7\\Desktop\\Master2_iaNov24\\Deep_Learning\\model_2\\test_Allocine_french.csv\", sep=\",\")"
   ]
  },
  {
   "cell_type": "code",
   "execution_count": 3,
   "id": "9ad5f6fa-5edb-4029-8945-285cc187bec7",
   "metadata": {},
   "outputs": [],
   "source": [
    "#train_dataset.head(5)\n",
    "train_dataset=train_dataset[[\"review\",\"polarity\"]]\n",
    "test_dataset=test_dataset[[\"review\",\"polarity\"]] "
   ]
  },
  {
   "cell_type": "code",
   "execution_count": 4,
   "id": "833487a2-1d6c-437f-ab1d-252ddae3b0b8",
   "metadata": {},
   "outputs": [],
   "source": [
    "#train_dataset.head(5)\n",
    "train_dataset=train_dataset.rename(columns={\"polarity\": \"sentiment\"})\n",
    "test_dataset=test_dataset.rename(columns={\"polarity\": \"sentiment\"})"
   ]
  },
  {
   "cell_type": "code",
   "execution_count": 5,
   "id": "1eeba05d-bafc-4c26-a32b-07c293b0f68d",
   "metadata": {},
   "outputs": [],
   "source": [
    "train_dataset[\"sentiment\"] =train_dataset[\"sentiment\"].replace({1:\"positive\",0:\"negative\"})\n",
    "test_dataset[\"sentiment\"] =test_dataset[\"sentiment\"].replace({1:\"positive\",0:\"negative\"})\n",
    "#train_dataset.head(5)"
   ]
  },
  {
   "cell_type": "code",
   "execution_count": 6,
   "id": "e85a6171-35b3-4c07-9b50-561d5cc5e2bc",
   "metadata": {},
   "outputs": [],
   "source": [
    "# sample\n",
    "train_dataset=train_dataset.sample(2500)\n",
    "test_dataset=test_dataset.sample(500)"
   ]
  },
  {
   "cell_type": "code",
   "execution_count": 7,
   "id": "d0e62caa-45ad-4cfc-94a5-d752c335e9bb",
   "metadata": {},
   "outputs": [],
   "source": [
    "#train_dataset.head(5)\n",
    "train_dataset.to_csv(\"train_dataset_allocine_french.csv\",index=False)\n",
    "test_dataset.to_csv(\"test_dataset_allocine_french.csv\",index=False)"
   ]
  },
  {
   "cell_type": "code",
   "execution_count": null,
   "id": "c95eef9c-01b3-4222-ba4d-a39269944e1a",
   "metadata": {},
   "outputs": [],
   "source": []
  }
 ],
 "metadata": {
  "kernelspec": {
   "display_name": "Python 3 (ipykernel)",
   "language": "python",
   "name": "python3"
  },
  "language_info": {
   "codemirror_mode": {
    "name": "ipython",
    "version": 3
   },
   "file_extension": ".py",
   "mimetype": "text/x-python",
   "name": "python",
   "nbconvert_exporter": "python",
   "pygments_lexer": "ipython3",
   "version": "3.12.3"
  }
 },
 "nbformat": 4,
 "nbformat_minor": 5
}
